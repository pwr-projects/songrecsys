{
 "cells": [
  {
   "cell_type": "code",
   "execution_count": null,
   "metadata": {},
   "outputs": [],
   "source": [
    "%load_ext autoreload\n",
    "%autoreload 2\n",
    "from songrecsys import OtherDS\n",
    "from songrecsys import *\n",
    "import csv"
   ]
  },
  {
   "cell_type": "code",
   "execution_count": null,
   "metadata": {},
   "outputs": [],
   "source": [
    "ds = OtherDS()\n",
    "dataset = ds.load()"
   ]
  },
  {
   "cell_type": "code",
   "execution_count": null,
   "metadata": {},
   "outputs": [],
   "source": [
    "users = list(set([item[0] for item in dataset[1:]]))"
   ]
  },
  {
   "cell_type": "code",
   "execution_count": 4,
   "metadata": {},
   "outputs": [
    {
     "data": {
      "application/vnd.jupyter.widget-view+json": {
       "model_id": "3a71b328e511439f80abafa394f1e22c",
       "version_major": 2,
       "version_minor": 0
      },
      "text/plain": [
       "HBox(children=(IntProgress(value=0, layout=Layout(flex='2'), max=15918), HTML(value='')), layout=Layout(displa…"
      ]
     },
     "metadata": {},
     "output_type": "display_data"
    },
    {
     "name": "stdout",
     "output_type": "stream",
     "text": [
      "\n"
     ]
    }
   ],
   "source": [
    "with open(DIR_DATA_ROOT / 'users.csv', 'w') as fhd:\n",
    "    writer = csv.writer(fhd)\n",
    "    for user in tqdm(users):\n",
    "        writer.writerow([user])"
   ]
  },
  {
   "cell_type": "code",
   "execution_count": 5,
   "metadata": {},
   "outputs": [
    {
     "name": "stdout",
     "output_type": "stream",
     "text": [
      "Loading config from config.json\n"
     ]
    }
   ],
   "source": [
    "mgr = Manager(users)"
   ]
  },
  {
   "cell_type": "code",
   "execution_count": 6,
   "metadata": {},
   "outputs": [
    {
     "data": {
      "text/plain": [
       "['9b0100b126de9a1cc3f71a9306c1975d',\n",
       " 'c06cb2840c4f249b41e6b159b026131e',\n",
       " 'fa6d9328896332c69f35666ad59a649d',\n",
       " '2fcc9023d2ed35070d55935745a0d18c',\n",
       " '20588269291bbe58157a813a4d609684',\n",
       " '486320434e40b45763265ad19eeb6deb',\n",
       " 'c13a6e8f5b87139e83f1411a22d8abf9',\n",
       " '32d07ef436ff5f5f01f996e109f07eba',\n",
       " '374ced11aeee63f8cdb2415d3401ac53',\n",
       " '102c8582a8e95fec6401c6789af11bb5']"
      ]
     },
     "execution_count": 6,
     "metadata": {},
     "output_type": "execute_result"
    }
   ],
   "source": [
    "users[:10]"
   ]
  },
  {
   "cell_type": "code",
   "execution_count": null,
   "metadata": {},
   "outputs": [],
   "source": []
  }
 ],
 "metadata": {
  "kernelspec": {
   "display_name": "Python 3",
   "language": "python",
   "name": "python3"
  },
  "language_info": {
   "codemirror_mode": {
    "name": "ipython",
    "version": 3
   },
   "file_extension": ".py",
   "mimetype": "text/x-python",
   "name": "python",
   "nbconvert_exporter": "python",
   "pygments_lexer": "ipython3",
   "version": "3.7.3"
  }
 },
 "nbformat": 4,
 "nbformat_minor": 2
}
