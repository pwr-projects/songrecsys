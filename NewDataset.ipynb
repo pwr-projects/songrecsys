{
 "cells": [
  {
   "cell_type": "code",
   "execution_count": 1,
   "metadata": {},
   "outputs": [
    {
     "name": "stderr",
     "output_type": "stream",
     "text": [
      "/home/suchygrzech/repos/pwr/s3/pisr/p/.env/lib/python3.7/site-packages/tqdm/autonotebook/__init__.py:14: TqdmExperimentalWarning: Using `tqdm.autonotebook.tqdm` in notebook mode. Use `tqdm.tqdm` instead to force console mode (e.g. in jupyter console)\n",
      "  \" (e.g. in jupyter console)\", TqdmExperimentalWarning)\n"
     ]
    }
   ],
   "source": [
    "%load_ext autoreload\n",
    "%autoreload 2\n",
    "from songrecsys import *"
   ]
  },
  {
   "cell_type": "code",
   "execution_count": 36,
   "metadata": {},
   "outputs": [
    {
     "name": "stdout",
     "output_type": "stream",
     "text": [
      "([0, 1, 2, 3, 4, 5, 6, 7, 8, 9, 10, 11, 12], 13)\n",
      "([1, 2, 3, 4, 5, 6, 7, 8, 9, 10, 11, 12, 13], 14)\n",
      "([2, 3, 4, 5, 6, 7, 8, 9, 10, 11, 12, 13, 14], 15)\n",
      "([3, 4, 5, 6, 7, 8, 9, 10, 11, 12, 13, 14, 15], 16)\n",
      "([4, 5, 6, 7, 8, 9, 10, 11, 12, 13, 14, 15, 16], 17)\n",
      "([5, 6, 7, 8, 9, 10, 11, 12, 13, 14, 15, 16, 17], 18)\n",
      "([6, 7, 8, 9, 10, 11, 12, 13, 14, 15, 16, 17, 18], 19)\n",
      "([7, 8, 9, 10, 11, 12, 13, 14, 15, 16, 17, 18, 19], 20)\n",
      "([8, 9, 10, 11, 12, 13, 14, 15, 16, 17, 18, 19, 20], 21)\n",
      "([9, 10, 11, 12, 13, 14, 15, 16, 17, 18, 19, 20, 21], 22)\n",
      "([10, 11, 12, 13, 14, 15, 16, 17, 18, 19, 20, 21, 22], 23)\n",
      "([11, 12, 13, 14, 15, 16, 17, 18, 19, 20, 21, 22, 23], 24)\n"
     ]
    }
   ],
   "source": [
    "for gram in NGram(range(25), 13, NGramType.BACKWARD):\n",
    "    print(gram)"
   ]
  },
  {
   "cell_type": "code",
   "execution_count": 34,
   "metadata": {},
   "outputs": [
    {
     "data": {
      "text/plain": [
       "1"
      ]
     },
     "execution_count": 34,
     "metadata": {},
     "output_type": "execute_result"
    }
   ],
   "source": [
    "NGramType.BACKWARD.value"
   ]
  },
  {
   "cell_type": "code",
   "execution_count": null,
   "metadata": {},
   "outputs": [],
   "source": []
  }
 ],
 "metadata": {
  "kernelspec": {
   "display_name": "Python 3",
   "language": "python",
   "name": "python3"
  },
  "language_info": {
   "codemirror_mode": {
    "name": "ipython",
    "version": 3
   },
   "file_extension": ".py",
   "mimetype": "text/x-python",
   "name": "python",
   "nbconvert_exporter": "python",
   "pygments_lexer": "ipython3",
   "version": "3.7.3"
  }
 },
 "nbformat": 4,
 "nbformat_minor": 2
}
